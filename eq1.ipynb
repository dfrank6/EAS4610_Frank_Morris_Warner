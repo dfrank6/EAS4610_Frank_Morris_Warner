{
 "cells": [
  {
   "cell_type": "code",
   "execution_count": 2,
   "id": "cb3608e9",
   "metadata": {},
   "outputs": [],
   "source": [
    "import math\n",
    "import numpy as np\n",
    "import matplotlib.pyplot as plt"
   ]
  },
  {
   "cell_type": "code",
   "execution_count": 51,
   "id": "b3ceadd6",
   "metadata": {
    "jupyter": {
     "source_hidden": true
    },
    "tags": []
   },
   "outputs": [
    {
     "data": {
      "text/plain": [
       "array([100.,   0.,   0., ...,   0.,   0.,   0.])"
      ]
     },
     "execution_count": 51,
     "metadata": {},
     "output_type": "execute_result"
    }
   ],
   "source": [
    "t_f = 700000\n",
    "x_f = 4884\n",
    "dt = 50 #yr\n",
    "dx = 55.5 #km\n",
    "A = 5.77e-4\n",
    "alpha = 5\n",
    "beta = 2\n",
    "nt = int(t_f/dt) + 1\n",
    "nx = int(x_f/dx) + 1\n",
    "x = np.linspace(0, x_f, nx)\n",
    "t = np.linspace(0, t_f, nt)\n",
    "\n",
    "h_prime = np.zeros(nt)\n",
    "h = np.zeros(nt)\n",
    "\n",
    "h_prime[0] = 100\n",
    "h[0] = 100\n",
    "h"
   ]
  },
  {
   "cell_type": "code",
   "execution_count": 58,
   "id": "12b2ac63",
   "metadata": {},
   "outputs": [
    {
     "data": {
      "text/plain": [
       "3.6036036036036037"
      ]
     },
     "execution_count": 58,
     "metadata": {},
     "output_type": "execute_result"
    }
   ],
   "source": [
    "halpha = h**alpha\n",
    "term1 = (abs((h + h_prime)/dx))**beta\n",
    "term2 = ((h + h_prime)/dx)\n",
    "Gfunction = np.zeros(nt) #placeholder\n",
    "\n",
    "nt\n",
    "\n",
    "for i in np.arange(0, nt - 1):\n",
    "    h[i+1] = (A * ((halpha[i]) * term1[i] * term2[i])/dx) + Gfunction[i] \n",
    "    i += 1\n",
    "term2[0]"
   ]
  },
  {
   "cell_type": "code",
   "execution_count": 59,
   "id": "f64b82d5",
   "metadata": {},
   "outputs": [
    {
     "data": {
      "text/plain": [
       "1.9087753678193034e+43"
      ]
     },
     "execution_count": 59,
     "metadata": {},
     "output_type": "execute_result"
    }
   ],
   "source": [
    "h[2]"
   ]
  },
  {
   "cell_type": "code",
   "execution_count": 60,
   "id": "1b837c4a",
   "metadata": {},
   "outputs": [
    {
     "data": {
      "text/plain": [
       "array([1.00000000e+02, 4.86512348e+06, 1.90877537e+43, ...,\n",
       "       0.00000000e+00, 0.00000000e+00, 0.00000000e+00])"
      ]
     },
     "execution_count": 60,
     "metadata": {},
     "output_type": "execute_result"
    }
   ],
   "source": [
    "h"
   ]
  },
  {
   "cell_type": "code",
   "execution_count": null,
   "id": "ed0a3582",
   "metadata": {},
   "outputs": [],
   "source": []
  }
 ],
 "metadata": {
  "kernelspec": {
   "display_name": "Python 3",
   "language": "python",
   "name": "python3"
  },
  "language_info": {
   "codemirror_mode": {
    "name": "ipython",
    "version": 3
   },
   "file_extension": ".py",
   "mimetype": "text/x-python",
   "name": "python",
   "nbconvert_exporter": "python",
   "pygments_lexer": "ipython3",
   "version": "3.8.8"
  }
 },
 "nbformat": 4,
 "nbformat_minor": 5
}
