{
 "cells": [
  {
   "cell_type": "code",
   "execution_count": 2,
   "id": "cb3608e9",
   "metadata": {},
   "outputs": [],
   "source": [
    "import math\n",
    "import numpy as np\n",
    "import matplotlib.pyplot as plt"
   ]
  },
  {
   "cell_type": "code",
   "execution_count": 3,
   "id": "b3ceadd6",
   "metadata": {},
   "outputs": [],
   "source": [
    "t_f = 700000\n",
    "x_f = 4884\n",
    "dt = 50 #yr\n",
    "dx = 55.5 #km\n",
    "A = 5.77e-4\n",
    "alpha = 5\n",
    "beta = 2\n",
    "nt = int(t_f/dt) + 1\n",
    "nx = int(x_f/dx) + 1\n",
    "x = np.linspace(0, x_f, nx)\n",
    "t = np.linspace(0, t_f, nt)\n",
    "\n",
    "h_prime = np.zeros([nx, nt])\n",
    "h = np.zeros([nx, nt])"
   ]
  },
  {
   "cell_type": "code",
   "execution_count": 10,
   "id": "12b2ac63",
   "metadata": {},
   "outputs": [
    {
     "ename": "IndexError",
     "evalue": "index 89 is out of bounds for axis 0 with size 89",
     "output_type": "error",
     "traceback": [
      "\u001b[1;31m---------------------------------------------------------------------------\u001b[0m",
      "\u001b[1;31mIndexError\u001b[0m                                Traceback (most recent call last)",
      "Input \u001b[1;32mIn [10]\u001b[0m, in \u001b[0;36m<cell line: 6>\u001b[1;34m()\u001b[0m\n\u001b[0;32m      4\u001b[0m Gfunction \u001b[38;5;241m=\u001b[39m np\u001b[38;5;241m.\u001b[39mzeros([nx, nt]) \u001b[38;5;66;03m#placeholder\u001b[39;00m\n\u001b[0;32m      6\u001b[0m \u001b[38;5;28;01mfor\u001b[39;00m i \u001b[38;5;129;01min\u001b[39;00m np\u001b[38;5;241m.\u001b[39marange(\u001b[38;5;241m0\u001b[39m, nt \u001b[38;5;241m-\u001b[39m \u001b[38;5;241m1\u001b[39m):\n\u001b[1;32m----> 7\u001b[0m     h[i\u001b[38;5;241m+\u001b[39m\u001b[38;5;241m1\u001b[39m] \u001b[38;5;241m=\u001b[39m A \u001b[38;5;241m*\u001b[39m ((halpha[i] \u001b[38;5;241m*\u001b[39m term1[i] \u001b[38;5;241m*\u001b[39m term2[i])\u001b[38;5;241m/\u001b[39mdx) \u001b[38;5;241m+\u001b[39m Gfunction[i]\n",
      "\u001b[1;31mIndexError\u001b[0m: index 89 is out of bounds for axis 0 with size 89"
     ]
    }
   ],
   "source": [
    "halpha = h**alpha\n",
    "term1 = (abs((h + h_prime)/dx))**beta\n",
    "term2 = ((h + h_prime)/dx)\n",
    "Gfunction = np.zeros([nx, nt]) #placeholder\n",
    "\n",
    "for i in np.arange(0, nt - 1):\n",
    "    h[i+1] = A * ((halpha[i] * term1[i] * term2[i])/dx) + Gfunction[i]"
   ]
  },
  {
   "cell_type": "code",
   "execution_count": null,
   "id": "f64b82d5",
   "metadata": {},
   "outputs": [],
   "source": []
  }
 ],
 "metadata": {
  "kernelspec": {
   "display_name": "Python 3 (ipykernel)",
   "language": "python",
   "name": "python3"
  },
  "language_info": {
   "codemirror_mode": {
    "name": "ipython",
    "version": 3
   },
   "file_extension": ".py",
   "mimetype": "text/x-python",
   "name": "python",
   "nbconvert_exporter": "python",
   "pygments_lexer": "ipython3",
   "version": "3.8.13"
  }
 },
 "nbformat": 4,
 "nbformat_minor": 5
}
