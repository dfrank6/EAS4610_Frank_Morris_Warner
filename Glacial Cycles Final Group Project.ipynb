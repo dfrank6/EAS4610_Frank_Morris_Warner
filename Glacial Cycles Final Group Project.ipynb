{
 "cells": [
  {
   "cell_type": "markdown",
   "id": "0f407ff7",
   "metadata": {},
   "source": [
    "# EAS 4610\n",
    "## Final Group Project\n",
    "## Glacial Cycles (Pollard 1982)\n",
    "\n",
    "### Dennis Frank\n",
    "### Marcus Morris\n",
    "### Nathan Warner"
   ]
  },
  {
   "cell_type": "code",
   "execution_count": 2,
   "id": "d36bfe31",
   "metadata": {},
   "outputs": [],
   "source": [
    "import numpy as np\n",
    "import matplotlib.pyplot as plt\n",
    "from scipy.sparse import spdiags\n",
    "import pandas as pd"
   ]
  },
  {
   "cell_type": "markdown",
   "id": "88995ece",
   "metadata": {},
   "source": [
    "# Introduction"
   ]
  },
  {
   "cell_type": "markdown",
   "id": "e7caca0e",
   "metadata": {},
   "source": [
    "# Equations"
   ]
  },
  {
   "cell_type": "code",
   "execution_count": 3,
   "id": "d7484884-990f-478c-a11c-16d671ad3660",
   "metadata": {
    "tags": []
   },
   "outputs": [],
   "source": [
    "#Constants\n",
    "a=0.81e-3 #Snowfall Constant, Unit:(1/yr) \n",
    "b=0.3e-6 #Ice Melt Constant, Unit:(1/(m*yr))\n",
    "k=25 #Insolation Sensitivity\n",
    "S=0 #Elevation of Current Sea Level\n",
    "pi=917 #ice density (kg/m^3)\n",
    "pw=1027 #sea water density (kg/m^3)\n",
    "A = 5.77e-4 # 1/(m^3 yr)\n",
    "alpha = 5\n",
    "beta = 2\n",
    "r = 0.3\n",
    "nu = 100 # km^2/yr\n",
    "nu = nu * 1000 * 1000\n",
    "\n",
    "t_f = 700000\n",
    "x_f = 4884000\n",
    "dt = 50 #yr\n",
    "dx = 55500 #m\n",
    "nt = int(t_f/dt) + 1\n",
    "nx = int(x_f/dx) + 1\n",
    "x = np.linspace(0, x_f, nx)\n",
    "t = np.linspace(0, t_f, nt)\n",
    "\n",
    "c_nu = (nu * dt) / (dx**2)\n",
    "c_A = (A * dt) / (4*dx**2)"
   ]
  },
  {
   "cell_type": "code",
   "execution_count": 4,
   "id": "330c69b8-5703-4575-9b05-11f5b3121120",
   "metadata": {
    "tags": []
   },
   "outputs": [],
   "source": [
    "#Function for Calculating the Mass Balance, G: (Snowfall - Ice Melt)\n",
    "def G(h,h_prime,h_prev,h_prime_prev,E0,dQ): #h:ice height, h':bedrock elevation, x:distance, E0:current equilibrium altitude, dq:insolation change @ 65°N\n",
    "    E = E0 + k*dQ\n",
    "    H = h+h_prime #Surface Elevation: H=h+h'\n",
    "    if (pi*h_prev < (pw*(S-h_prime_prev))) and (h_prime < S): #Calving Conditional Statement (maybe put this in separte fxn)\n",
    "        return -20\n",
    "    \n",
    "    elif (H-E) <= 1500:\n",
    "        return a*(H-E) - b*(H-E)**2\n",
    "    \n",
    "    else:\n",
    "        return 0.56"
   ]
  },
  {
   "cell_type": "code",
   "execution_count": 6,
   "id": "8a349e7d-5b39-4d2b-804a-a9c29e8c45fa",
   "metadata": {
    "scrolled": true,
    "tags": []
   },
   "outputs": [
    {
     "name": "stderr",
     "output_type": "stream",
     "text": [
      "C:\\Users\\Dennis\\AppData\\Local\\Temp\\ipykernel_17292\\2541280527.py:59: RuntimeWarning: overflow encountered in power\n",
      "  K[1:-1] = h[1:-1,k]**alpha + abs(((h[2:nx,k] - h[0:nx-2,k])/(2*dx)) + ((h_prime[2:nx,k] - h_prime[0:nx-2,k])/(2*dx)))**beta\n",
      "C:\\Users\\Dennis\\AppData\\Local\\Temp\\ipykernel_17292\\2541280527.py:59: RuntimeWarning: overflow encountered in square\n",
      "  K[1:-1] = h[1:-1,k]**alpha + abs(((h[2:nx,k] - h[0:nx-2,k])/(2*dx)) + ((h_prime[2:nx,k] - h_prime[0:nx-2,k])/(2*dx)))**beta\n",
      "C:\\Users\\Dennis\\AppData\\Local\\Temp\\ipykernel_17292\\2541280527.py:59: RuntimeWarning: invalid value encountered in add\n",
      "  K[1:-1] = h[1:-1,k]**alpha + abs(((h[2:nx,k] - h[0:nx-2,k])/(2*dx)) + ((h_prime[2:nx,k] - h_prime[0:nx-2,k])/(2*dx)))**beta\n",
      "C:\\Users\\Dennis\\AppData\\Local\\Temp\\ipykernel_17292\\2541280527.py:64: RuntimeWarning: invalid value encountered in subtract\n",
      "  h_1[0:nx-2] = c_A*K[0:nx-2] + 4*c_A*K[1:nx-1] - c_A*K[2:nx]\n",
      "C:\\Users\\Dennis\\AppData\\Local\\Temp\\ipykernel_17292\\2541280527.py:70: RuntimeWarning: invalid value encountered in add\n",
      "  h_3[2:nx] = -c_A*K[0:nx-2] + 4*c_A*K[1:nx-1] + c_A*K[2:nx]\n",
      "C:\\Users\\Dennis\\AppData\\Local\\Temp\\ipykernel_17292\\2541280527.py:75: RuntimeWarning: invalid value encountered in subtract\n",
      "  h_p_1[0:nx-2] = c_A*K[0:nx-2] + 4*c_A*K[1:nx-1] - c_A*K[2:nx]\n",
      "C:\\Users\\Dennis\\AppData\\Local\\Temp\\ipykernel_17292\\2541280527.py:79: RuntimeWarning: invalid value encountered in add\n",
      "  h_p_3[2:nx] = -c_A*K[0:nx-2] + 4*c_A*K[1:nx-1] + c_A*K[2:nx]\n",
      "C:\\Users\\Dennis\\AppData\\Local\\Temp\\ipykernel_17292\\929897899.py:9: RuntimeWarning: overflow encountered in double_scalars\n",
      "  return a*(H-E) - b*(H-E)**2\n",
      "C:\\Users\\Dennis\\AppData\\Local\\Temp\\ipykernel_17292\\2541280527.py:92: RuntimeWarning: invalid value encountered in matmul\n",
      "  h_new = h_M@h[:,k] + h_p_M@h_prime[:,k] + G_M\n"
     ]
    },
    {
     "data": {
      "text/plain": [
       "array([[ 0.00000000e+00,  7.28999757e-07, -4.75869419e-03, ...,\n",
       "                    nan,             nan,             nan],\n",
       "       [ 0.00000000e+00,  3.64499939e-07, -4.75942507e-03, ...,\n",
       "                    nan,             nan,             nan],\n",
       "       [ 0.00000000e+00,  8.78203760e-23, -4.76015595e-03, ...,\n",
       "                    nan,             nan,             nan],\n",
       "       ...,\n",
       "       [ 0.00000000e+00, -3.06184287e-05, -4.82155071e-03, ...,\n",
       "                    nan,             nan,             nan],\n",
       "       [ 0.00000000e+00, -3.09829389e-05, -4.82228161e-03, ...,\n",
       "                    nan,             nan,             nan],\n",
       "       [ 0.00000000e+00,  0.00000000e+00,  0.00000000e+00, ...,\n",
       "                    nan,             nan,             nan]])"
      ]
     },
     "execution_count": 6,
     "metadata": {},
     "output_type": "execute_result"
    }
   ],
   "source": [
    "h = np.zeros([nx, nt])\n",
    "h_prime = np.zeros([nx, nt])\n",
    "\n",
    "## Initial conditions\n",
    "h_0 = np.zeros([nx])\n",
    "h_prime_0 = np.zeros([nx])\n",
    "h_naught = np.zeros([nx])\n",
    "\n",
    "h[:, 0] = h_0\n",
    "h_prime[:, 0] = h_prime_0\n",
    "\n",
    "## EQUATION 3 MATRICES\n",
    "h_prime_data = np.array([c_nu*np.ones(nx), (1-2*c_nu)*np.ones(nx), c_nu*np.ones(nx)])\n",
    "h_prime_diags = np.array([-1, 0, 1])\n",
    "h_prime_M_3 = spdiags(h_prime_data, h_prime_diags, nx, nx).toarray()\n",
    "\n",
    "h_0_data = np.array([-c_nu*np.ones(nx), (2*c_nu)*np.ones(nx), -c_nu*np.ones(nx)])\n",
    "h_0_diags = np.array([-1, 0, 1])\n",
    "h_0_M_3 = spdiags(h_0_data, h_0_diags, nx, nx).toarray()\n",
    "\n",
    "h_data = np.array([r*c_nu*np.ones(nx), (-2*r*c_nu)*np.ones(nx), r*c_nu*np.ones(nx)])\n",
    "h_diags = np.array([-1, 0, 1])\n",
    "h_M_3 = spdiags(h_data, h_diags, nx, nx).toarray()\n",
    "\n",
    "## EQUATION 3 BOUNDARY CONDITIONS\n",
    "h_prime_M_3[0, 0] = 0\n",
    "h_prime_M_3[0, 1] = 0\n",
    "h_prime_M_3[-1, -1] = 0\n",
    "h_prime_M_3[-1, -2] = 0\n",
    "\n",
    "h_0_M_3[0, 0] = 1\n",
    "h_0_M_3[0, 1] = 0\n",
    "h_0_M_3[-1, -1] = 1\n",
    "h_0_M_3[-1, -2] = 0\n",
    "\n",
    "h_M_3[0, 0] = 0\n",
    "h_M_3[0, 1] = 0\n",
    "h_M_3[-1, -1] = 0\n",
    "h_M_3[-1, -2] = 0\n",
    "\n",
    "#Define Insolation as a Function of Time (Q)\n",
    "df = pd.read_csv('Milankovitch.dat',skiprows=1300,delim_whitespace=True, names=['year','lat','Q','x','y','z','v']) #only first 3 rows are of interest\n",
    "Q = df['Q'].to_numpy() #values in W/m^2\n",
    "n = np.ceil(len(t)/len(Q))\n",
    "Q = list(np.repeat(Q,n)) #repeat values\n",
    "#Run Loop to calculate dQ\n",
    "Q_present=Q[-1]\n",
    "dQ = np.ones((len(Q),1))\n",
    "for i in np.arange(len(Q)):\n",
    "    dQ[i] = Q[i] - Q_present\n",
    "dQ = dQ.reshape(-1)\n",
    "#Define Equilibrium-Line Altitude as a Function of \n",
    "E0 = ((0.9e-3)/111000)*x - (0.9e-3)\n",
    "\n",
    "## MASTER LOOP\n",
    "for k in np.arange(0, nt - 1):\n",
    "    # EQUATION 1 MATRICES\n",
    "    K = np.zeros([nx])\n",
    "    K[1:-1] = h[1:-1,k]**alpha + abs(((h[2:nx,k] - h[0:nx-2,k])/(2*dx)) + ((h_prime[2:nx,k] - h_prime[0:nx-2,k])/(2*dx)))**beta\n",
    "    K[0] = K[1]\n",
    "    K[-1] = K[nx - 2]\n",
    "\n",
    "    h_1 = np.zeros(nx)\n",
    "    h_1[0:nx-2] = c_A*K[0:nx-2] + 4*c_A*K[1:nx-1] - c_A*K[2:nx]\n",
    "    h_2 = np.zeros(nx)\n",
    "    h_2[1:nx-1] = 1 - 8*c_A*K[1:nx-1]\n",
    "    h_2[0] = 1\n",
    "    h_2[-1] = 1\n",
    "    h_3 = np.zeros(nx)\n",
    "    h_3[2:nx] = -c_A*K[0:nx-2] + 4*c_A*K[1:nx-1] + c_A*K[2:nx]\n",
    "    h_diags = np.array([-1, 0, 1])\n",
    "    h_M = spdiags(np.array([h_1, h_2, h_3]), h_diags, nx, nx).toarray()\n",
    "\n",
    "    h_p_1 = np.zeros(nx)\n",
    "    h_p_1[0:nx-2] = c_A*K[0:nx-2] + 4*c_A*K[1:nx-1] - c_A*K[2:nx]\n",
    "    h_p_2 = np.zeros(nx)\n",
    "    h_p_2[1:nx-1] = -8*c_A*K[1:nx-1]\n",
    "    h_p_3 = np.zeros(nx)\n",
    "    h_p_3[2:nx] = -c_A*K[0:nx-2] + 4*c_A*K[1:nx-1] + c_A*K[2:nx]\n",
    "    h_p_diags = np.array([-1, 0, 1])\n",
    "    h_p_M = spdiags(np.array([h_p_1, h_p_2, h_p_3]), h_diags, nx, nx).toarray()\n",
    "    \n",
    "    # Find G\n",
    "    G_M = np.zeros(nx)\n",
    "    this_dQ = dQ[k]\n",
    "    G_M[0] = G(h[0, k], h_prime[0, k], h[0, k], h_prime[0, k], E0[0], this_dQ)\n",
    "    \n",
    "    for i in np.arange(1, nx-1):\n",
    "        G_M[i] = G(h[i, k], h_prime[i, k], h[i-1, k], h_prime[i-1, k], E0[i], this_dQ)\n",
    "        \n",
    "    # Find h at next time step\n",
    "    h_new = h_M@h[:,k] + h_p_M@h_prime[:,k] + G_M\n",
    "    h[:, k+1] = h_new.transpose()\n",
    "    \n",
    "    # Find h_prime at next time step    \n",
    "    h_prime_new = h_prime_M_3@h_prime[:,k] + h_0_M_3@h_naught[:] + h_M_3@h[:,k]\n",
    "    h_prime[:, k+1] = h_prime_new.transpose()\n",
    "    \n",
    "h"
   ]
  },
  {
   "cell_type": "markdown",
   "id": "c9aa3d5b",
   "metadata": {},
   "source": [
    "# Numerical Methods"
   ]
  },
  {
   "cell_type": "markdown",
   "id": "cc94fc6e",
   "metadata": {},
   "source": [
    "# Results"
   ]
  },
  {
   "cell_type": "markdown",
   "id": "89a0816b",
   "metadata": {},
   "source": [
    "# Figures"
   ]
  },
  {
   "cell_type": "markdown",
   "id": "ddfea336",
   "metadata": {},
   "source": [
    "# Video Walkthrough"
   ]
  },
  {
   "cell_type": "markdown",
   "id": "0ef8dd06",
   "metadata": {},
   "source": [
    "# References"
   ]
  }
 ],
 "metadata": {
  "kernelspec": {
   "display_name": "Python 3 (ipykernel)",
   "language": "python",
   "name": "python3"
  },
  "language_info": {
   "codemirror_mode": {
    "name": "ipython",
    "version": 3
   },
   "file_extension": ".py",
   "mimetype": "text/x-python",
   "name": "python",
   "nbconvert_exporter": "python",
   "pygments_lexer": "ipython3",
   "version": "3.10.7"
  }
 },
 "nbformat": 4,
 "nbformat_minor": 5
}
