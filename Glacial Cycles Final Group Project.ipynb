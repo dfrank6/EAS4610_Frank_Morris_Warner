{
 "cells": [
  {
   "cell_type": "markdown",
   "id": "0f407ff7",
   "metadata": {},
   "source": [
    "# EAS 4610\n",
    "## Final Group Project\n",
    "## Glacial Cycles (Pollard 1982)\n",
    "\n",
    "### Dennis Frank\n",
    "### Marcus Morris\n",
    "### Nathan Warner"
   ]
  },
  {
   "cell_type": "code",
   "execution_count": 86,
   "id": "d36bfe31",
   "metadata": {},
   "outputs": [],
   "source": [
    "import numpy as np\n",
    "import matplotlib.pyplot as plt\n",
    "from scipy.sparse import spdiags\n",
    "import pandas as pd"
   ]
  },
  {
   "cell_type": "markdown",
   "id": "88995ece",
   "metadata": {},
   "source": [
    "# Introduction"
   ]
  },
  {
   "cell_type": "code",
   "execution_count": null,
   "id": "5da7637a-8629-4c17-9db5-646d03237090",
   "metadata": {},
   "outputs": [],
   "source": []
  },
  {
   "cell_type": "markdown",
   "id": "e7caca0e",
   "metadata": {},
   "source": [
    "# Equations"
   ]
  },
  {
   "cell_type": "code",
   "execution_count": null,
   "id": "d31cf567-e851-494f-9fb6-05bbe5281c86",
   "metadata": {},
   "outputs": [],
   "source": []
  },
  {
   "cell_type": "code",
   "execution_count": 187,
   "id": "d7484884-990f-478c-a11c-16d671ad3660",
   "metadata": {
    "tags": []
   },
   "outputs": [],
   "source": [
    "#Constants\n",
    "\n",
    "##Equation 1\n",
    "A = 5.77e-4 # 1/(m^3 yr)\n",
    "alpha = 5\n",
    "beta = 2\n",
    "\n",
    "##Equation 2\n",
    "a=0.81e-3 #Snowfall Constant, Unit:(1/yr) \n",
    "b=0.3e-6 #Ice Melt Constant, Unit:(1/(m*yr))\n",
    "k_sens=25 #Insolation Sensitivity (m*day/Ly)\n",
    "k_sens = k_sens / 41840 # 1 Ly = 41840 J/m^2\n",
    "S=0 #Elevation of Current Sea Level\n",
    "pi=917 #ice density (kg/m^3)\n",
    "pw=1027 #sea water density (kg/m^3)\n",
    "\n",
    "##Equation 3\n",
    "r = 0.3\n",
    "nu = 100 # km^2/yr\n",
    "nu = nu * 1000 * 1000\n"
   ]
  },
  {
   "cell_type": "code",
   "execution_count": 205,
   "id": "330c69b8-5703-4575-9b05-11f5b3121120",
   "metadata": {
    "tags": []
   },
   "outputs": [],
   "source": [
    "#Function for Calculating the Mass Balance, G: (Snowfall - Ice Melt)\n",
    "def G(h,h_prime,h_prev,h_prime_prev,E0,dQ, t_param): #h:ice height, h':bedrock elevation, x:distance, E0:current equilibrium altitude, dq:insolation change @ 65°N\n",
    "    E = E0 + k_sens*dQ\n",
    "    H = h+h_prime #Surface Elevation: H=h+h'\n",
    "#    if (pi*h_prev < (pw*(S-h_prime_prev))) and (h_prime < S): #Calving Conditional Statement (maybe put this in separte fxn)\n",
    "#        return -20\n",
    "#     if (H-E) <= -1000:\n",
    "#         return a*(H-E) - b*((H-E)**2)\n",
    "#     else:\n",
    "    return 0.56\n",
    "\n",
    "#0.56 * np.sin((3*2*np.pi)/(nt) * t_param) ##oscilating G parameter"
   ]
  },
  {
   "cell_type": "markdown",
   "id": "c9aa3d5b",
   "metadata": {},
   "source": [
    "# Numerical Methods"
   ]
  },
  {
   "cell_type": "code",
   "execution_count": 206,
   "id": "e93c1ea5-23f5-4105-b487-666d9cf9b55f",
   "metadata": {},
   "outputs": [],
   "source": [
    "#Model Parameters\n",
    "t_f = 1500\n",
    "x_f = 4884000\n",
    "dt = 0.01 #yr\n",
    "dx = 55500 #m\n",
    "nt = int(t_f/dt) + 1\n",
    "nx = int(x_f/dx) + 1\n",
    "x = np.linspace(0, x_f, nx)\n",
    "t = np.linspace(0, t_f, nt)\n",
    "\n",
    "c_nu = (nu * dt) / (dx**2)\n",
    "c_A = (A * dt) / (4*dx**2)"
   ]
  },
  {
   "cell_type": "markdown",
   "id": "327ee9f0-af00-4ae4-ab86-4461de3192b8",
   "metadata": {},
   "source": [
    "### Model with IC: h = 0 m"
   ]
  },
  {
   "cell_type": "code",
   "execution_count": 207,
   "id": "bd47e337-48a3-4f71-ae8e-f4a4e201c1ba",
   "metadata": {
    "tags": []
   },
   "outputs": [],
   "source": [
    "h1 = np.zeros([nx, nt])\n",
    "h_prime = np.zeros([nx, nt])\n",
    "\n",
    "## Initial conditions\n",
    "h_0 = np.zeros([nx])\n",
    "h_prime_0 = np.zeros([nx])\n",
    "h_naught = np.zeros([nx])\n",
    "\n",
    "h1[:, 0] = h_0\n",
    "h_prime[:, 0] = h_prime_0\n",
    "\n",
    "## EQUATION 3 MATRICES\n",
    "h_prime_data = np.array([c_nu*np.ones(nx), (1-2*c_nu)*np.ones(nx), c_nu*np.ones(nx)])\n",
    "h_prime_diags = np.array([-1, 0, 1])\n",
    "h_prime_M_3 = spdiags(h_prime_data, h_prime_diags, nx, nx).toarray()\n",
    "\n",
    "h_0_data = np.array([-c_nu*np.ones(nx), (2*c_nu)*np.ones(nx), -c_nu*np.ones(nx)])\n",
    "h_0_diags = np.array([-1, 0, 1])\n",
    "h_0_M_3 = spdiags(h_0_data, h_0_diags, nx, nx).toarray()\n",
    "\n",
    "h_data = np.array([r*c_nu*np.ones(nx), (-2*r*c_nu)*np.ones(nx), r*c_nu*np.ones(nx)])\n",
    "h_diags = np.array([-1, 0, 1])\n",
    "h_M_3 = spdiags(h_data, h_diags, nx, nx).toarray()\n",
    "\n",
    "## EQUATION 3 BOUNDARY CONDITIONS\n",
    "h_prime_M_3[0, 0] = 0\n",
    "h_prime_M_3[0, 1] = 0\n",
    "h_prime_M_3[-1, -1] = 0\n",
    "h_prime_M_3[-1, -2] = 0\n",
    "\n",
    "h_0_M_3[0, 0] = 1\n",
    "h_0_M_3[0, 1] = 0\n",
    "h_0_M_3[-1, -1] = 1\n",
    "h_0_M_3[-1, -2] = 0\n",
    "\n",
    "h_M_3[0, 0] = 0\n",
    "h_M_3[0, 1] = 0\n",
    "h_M_3[-1, -1] = 0\n",
    "h_M_3[-1, -2] = 0\n",
    "\n",
    "#Define Insolation as a Function of Time (Q)\n",
    "df = pd.read_csv('Milankovitch.dat',skiprows=1300,delim_whitespace=True, names=['year','lat','Q','x','y','z','v']) #only first 3 rows are of interest\n",
    "Q = df['Q'].to_numpy() #values in W/m^2\n",
    "n = np.ceil(len(t)/len(Q))\n",
    "Q = list(np.repeat(Q,n)) #repeat values\n",
    "#Run Loop to calculate dQ\n",
    "Q_present=Q[-1]\n",
    "dQ = np.ones((len(Q),1))\n",
    "for i in np.arange(len(Q)):\n",
    "    dQ[i] = Q[i] - Q_present\n",
    "dQ = dQ.reshape(-1)\n",
    "dQ = dQ * 60 * 60 * 24 # convert to J/(m^2 * day)\n",
    "#Define Equilibrium-Line Altitude as a Function of latitude\n",
    "E0 = (0.9e-3)*x - 99.9\n",
    "\n",
    "## MASTER LOOP\n",
    "for k in np.arange(0, nt - 1):\n",
    "    # EQUATION 1 MATRICES\n",
    "    K = np.zeros([nx])\n",
    "    K[1:-1] = h1[1:-1,k]**alpha + abs(((h1[2:nx,k] - h1[0:nx-2,k])/(2*dx)) + ((h_prime[2:nx,k] - h_prime[0:nx-2,k])/(2*dx)))**beta\n",
    "\n",
    "    h_1 = np.zeros(nx)\n",
    "    h_1[0:nx-2] = c_A*K[0:nx-2] + 4*c_A*K[1:nx-1] - c_A*K[2:nx]\n",
    "    h_2 = np.zeros(nx)\n",
    "    h_2[1:nx-1] = 1 - 8*c_A*K[1:nx-1]\n",
    "    h_2[0] = 1\n",
    "    h_2[-1] = 1\n",
    "    h_3 = np.zeros(nx)\n",
    "    h_3[2:nx] = -c_A*K[0:nx-2] + 4*c_A*K[1:nx-1] + c_A*K[2:nx]\n",
    "    h_diags = np.array([-1, 0, 1])\n",
    "    h_M = spdiags(np.array([h_1, h_2, h_3]), h_diags, nx, nx).toarray()\n",
    "\n",
    "    h_p_1 = np.zeros(nx)\n",
    "    h_p_1[0:nx-2] = c_A*K[0:nx-2] + 4*c_A*K[1:nx-1] - c_A*K[2:nx]\n",
    "    h_p_2 = np.zeros(nx)\n",
    "    h_p_2[1:nx-1] = -8*c_A*K[1:nx-1]\n",
    "    h_p_3 = np.zeros(nx)\n",
    "    h_p_3[2:nx] = -c_A*K[0:nx-2] + 4*c_A*K[1:nx-1] + c_A*K[2:nx]\n",
    "    h_p_diags = np.array([-1, 0, 1])\n",
    "    h_p_M = spdiags(np.array([h_p_1, h_p_2, h_p_3]), h_diags, nx, nx).toarray()\n",
    "    \n",
    "    # Find G\n",
    "    G_M = np.zeros(nx)\n",
    "    this_dQ = dQ[k]\n",
    "    G_M[0] = 0\n",
    "    \n",
    "    for i in np.arange(1, nx-1):\n",
    "        G_M[i] = G(h1[i, k], h_prime[i, k], h1[i-1, k], h_prime[i-1, k], E0[i], this_dQ, k)\n",
    "        \n",
    "    # Find h at next time step\n",
    "    h_new = h_M@h1[:,k] + h_p_M@h_prime[:,k] + G_M*dt\n",
    "    h1[:, k+1] = h_new.transpose()\n",
    "    \n",
    "    # Find h_prime at next time step    \n",
    "    h_prime_new = h_prime_M_3@h_prime[:,k] + h_0_M_3@h_naught[:] + h_M_3@h1[:,k]\n",
    "    h_prime[:, k+1] = h_prime_new.transpose()"
   ]
  },
  {
   "cell_type": "markdown",
   "id": "beef5aff-b43f-467d-9c8b-39d79756eb0f",
   "metadata": {},
   "source": [
    "### Model with IC: h = 500 m"
   ]
  },
  {
   "cell_type": "code",
   "execution_count": 192,
   "id": "df218581-1528-48e4-93f4-3c30135e970a",
   "metadata": {
    "tags": []
   },
   "outputs": [
    {
     "ename": "KeyboardInterrupt",
     "evalue": "",
     "output_type": "error",
     "traceback": [
      "\u001b[1;31m---------------------------------------------------------------------------\u001b[0m",
      "\u001b[1;31mKeyboardInterrupt\u001b[0m                         Traceback (most recent call last)",
      "\u001b[1;32m<ipython-input-192-69f7160793d0>\u001b[0m in \u001b[0;36m<module>\u001b[1;34m\u001b[0m\n\u001b[0;32m     59\u001b[0m     \u001b[1;31m# EQUATION 1 MATRICES\u001b[0m\u001b[1;33m\u001b[0m\u001b[1;33m\u001b[0m\u001b[1;33m\u001b[0m\u001b[0m\n\u001b[0;32m     60\u001b[0m     \u001b[0mK\u001b[0m \u001b[1;33m=\u001b[0m \u001b[0mnp\u001b[0m\u001b[1;33m.\u001b[0m\u001b[0mzeros\u001b[0m\u001b[1;33m(\u001b[0m\u001b[1;33m[\u001b[0m\u001b[0mnx\u001b[0m\u001b[1;33m]\u001b[0m\u001b[1;33m)\u001b[0m\u001b[1;33m\u001b[0m\u001b[1;33m\u001b[0m\u001b[0m\n\u001b[1;32m---> 61\u001b[1;33m     \u001b[0mK\u001b[0m\u001b[1;33m[\u001b[0m\u001b[1;36m1\u001b[0m\u001b[1;33m:\u001b[0m\u001b[1;33m-\u001b[0m\u001b[1;36m1\u001b[0m\u001b[1;33m]\u001b[0m \u001b[1;33m=\u001b[0m \u001b[0mh2\u001b[0m\u001b[1;33m[\u001b[0m\u001b[1;36m1\u001b[0m\u001b[1;33m:\u001b[0m\u001b[1;33m-\u001b[0m\u001b[1;36m1\u001b[0m\u001b[1;33m,\u001b[0m\u001b[0mk\u001b[0m\u001b[1;33m]\u001b[0m\u001b[1;33m**\u001b[0m\u001b[0malpha\u001b[0m \u001b[1;33m+\u001b[0m \u001b[0mabs\u001b[0m\u001b[1;33m(\u001b[0m\u001b[1;33m(\u001b[0m\u001b[1;33m(\u001b[0m\u001b[0mh2\u001b[0m\u001b[1;33m[\u001b[0m\u001b[1;36m2\u001b[0m\u001b[1;33m:\u001b[0m\u001b[0mnx\u001b[0m\u001b[1;33m,\u001b[0m\u001b[0mk\u001b[0m\u001b[1;33m]\u001b[0m \u001b[1;33m-\u001b[0m \u001b[0mh2\u001b[0m\u001b[1;33m[\u001b[0m\u001b[1;36m0\u001b[0m\u001b[1;33m:\u001b[0m\u001b[0mnx\u001b[0m\u001b[1;33m-\u001b[0m\u001b[1;36m2\u001b[0m\u001b[1;33m,\u001b[0m\u001b[0mk\u001b[0m\u001b[1;33m]\u001b[0m\u001b[1;33m)\u001b[0m\u001b[1;33m/\u001b[0m\u001b[1;33m(\u001b[0m\u001b[1;36m2\u001b[0m\u001b[1;33m*\u001b[0m\u001b[0mdx\u001b[0m\u001b[1;33m)\u001b[0m\u001b[1;33m)\u001b[0m \u001b[1;33m+\u001b[0m \u001b[1;33m(\u001b[0m\u001b[1;33m(\u001b[0m\u001b[0mh_prime\u001b[0m\u001b[1;33m[\u001b[0m\u001b[1;36m2\u001b[0m\u001b[1;33m:\u001b[0m\u001b[0mnx\u001b[0m\u001b[1;33m,\u001b[0m\u001b[0mk\u001b[0m\u001b[1;33m]\u001b[0m \u001b[1;33m-\u001b[0m \u001b[0mh_prime\u001b[0m\u001b[1;33m[\u001b[0m\u001b[1;36m0\u001b[0m\u001b[1;33m:\u001b[0m\u001b[0mnx\u001b[0m\u001b[1;33m-\u001b[0m\u001b[1;36m2\u001b[0m\u001b[1;33m,\u001b[0m\u001b[0mk\u001b[0m\u001b[1;33m]\u001b[0m\u001b[1;33m)\u001b[0m\u001b[1;33m/\u001b[0m\u001b[1;33m(\u001b[0m\u001b[1;36m2\u001b[0m\u001b[1;33m*\u001b[0m\u001b[0mdx\u001b[0m\u001b[1;33m)\u001b[0m\u001b[1;33m)\u001b[0m\u001b[1;33m)\u001b[0m\u001b[1;33m**\u001b[0m\u001b[0mbeta\u001b[0m\u001b[1;33m\u001b[0m\u001b[1;33m\u001b[0m\u001b[0m\n\u001b[0m\u001b[0;32m     62\u001b[0m \u001b[1;33m\u001b[0m\u001b[0m\n\u001b[0;32m     63\u001b[0m     \u001b[0mh_1\u001b[0m \u001b[1;33m=\u001b[0m \u001b[0mnp\u001b[0m\u001b[1;33m.\u001b[0m\u001b[0mzeros\u001b[0m\u001b[1;33m(\u001b[0m\u001b[0mnx\u001b[0m\u001b[1;33m)\u001b[0m\u001b[1;33m\u001b[0m\u001b[1;33m\u001b[0m\u001b[0m\n",
      "\u001b[1;31mKeyboardInterrupt\u001b[0m: "
     ]
    }
   ],
   "source": [
    "h2 = np.zeros([nx, nt])\n",
    "h_prime = np.zeros([nx, nt])\n",
    "\n",
    "## Initial conditions\n",
    "h_0 = np.zeros([nx])\n",
    "h_0 = 500\n",
    "h_prime_0 = np.zeros([nx])\n",
    "h_naught = np.zeros([nx])\n",
    "\n",
    "h2[:, 0] = h_0\n",
    "h_prime[:, 0] = h_prime_0\n",
    "\n",
    "## EQUATION 3 MATRICES\n",
    "h_prime_data = np.array([c_nu*np.ones(nx), (1-2*c_nu)*np.ones(nx), c_nu*np.ones(nx)])\n",
    "h_prime_diags = np.array([-1, 0, 1])\n",
    "h_prime_M_3 = spdiags(h_prime_data, h_prime_diags, nx, nx).toarray()\n",
    "\n",
    "h_0_data = np.array([-c_nu*np.ones(nx), (2*c_nu)*np.ones(nx), -c_nu*np.ones(nx)])\n",
    "h_0_diags = np.array([-1, 0, 1])\n",
    "h_0_M_3 = spdiags(h_0_data, h_0_diags, nx, nx).toarray()\n",
    "\n",
    "h_data = np.array([r*c_nu*np.ones(nx), (-2*r*c_nu)*np.ones(nx), r*c_nu*np.ones(nx)])\n",
    "h_diags = np.array([-1, 0, 1])\n",
    "h_M_3 = spdiags(h_data, h_diags, nx, nx).toarray()\n",
    "\n",
    "## EQUATION 3 BOUNDARY CONDITIONS\n",
    "h_prime_M_3[0, 0] = 0\n",
    "h_prime_M_3[0, 1] = 0\n",
    "h_prime_M_3[-1, -1] = 0\n",
    "h_prime_M_3[-1, -2] = 0\n",
    "\n",
    "h_0_M_3[0, 0] = 1\n",
    "h_0_M_3[0, 1] = 0\n",
    "h_0_M_3[-1, -1] = 1\n",
    "h_0_M_3[-1, -2] = 0\n",
    "\n",
    "h_M_3[0, 0] = 0\n",
    "h_M_3[0, 1] = 0\n",
    "h_M_3[-1, -1] = 0\n",
    "h_M_3[-1, -2] = 0\n",
    "\n",
    "#Define Insolation as a Function of Time (Q)\n",
    "df = pd.read_csv('Milankovitch.dat',skiprows=1300,delim_whitespace=True, names=['year','lat','Q','x','y','z','v']) #only first 3 rows are of interest\n",
    "Q = df['Q'].to_numpy() #values in W/m^2\n",
    "n = np.ceil(len(t)/len(Q))\n",
    "Q = list(np.repeat(Q,n)) #repeat values\n",
    "#Run Loop to calculate dQ\n",
    "Q_present=Q[-1]\n",
    "dQ = np.ones((len(Q),1))\n",
    "for i in np.arange(len(Q)):\n",
    "    dQ[i] = Q[i] - Q_present\n",
    "dQ = dQ.reshape(-1)\n",
    "dQ = dQ * 60 * 60 * 24 # convert to J/(m^2 * day)\n",
    "#Define Equilibrium-Line Altitude as a Function of latitude\n",
    "E0 = (0.9e-3)*x - 99.9\n",
    "\n",
    "## MASTER LOOP\n",
    "for k in np.arange(0, nt - 1):\n",
    "    # EQUATION 1 MATRICES\n",
    "    K = np.zeros([nx])\n",
    "    K[1:-1] = h2[1:-1,k]**alpha + abs(((h2[2:nx,k] - h2[0:nx-2,k])/(2*dx)) + ((h_prime[2:nx,k] - h_prime[0:nx-2,k])/(2*dx)))**beta\n",
    "\n",
    "    h_1 = np.zeros(nx)\n",
    "    h_1[0:nx-2] = c_A*K[0:nx-2] + 4*c_A*K[1:nx-1] - c_A*K[2:nx]\n",
    "    h_2 = np.zeros(nx)\n",
    "    h_2[1:nx-1] = 1 - 8*c_A*K[1:nx-1]\n",
    "    h_2[0] = 1\n",
    "    h_2[-1] = 1\n",
    "    h_3 = np.zeros(nx)\n",
    "    h_3[2:nx] = -c_A*K[0:nx-2] + 4*c_A*K[1:nx-1] + c_A*K[2:nx]\n",
    "    h_diags = np.array([-1, 0, 1])\n",
    "    h_M = spdiags(np.array([h_1, h_2, h_3]), h_diags, nx, nx).toarray()\n",
    "\n",
    "    h_p_1 = np.zeros(nx)\n",
    "    h_p_1[0:nx-2] = c_A*K[0:nx-2] + 4*c_A*K[1:nx-1] - c_A*K[2:nx]\n",
    "    h_p_2 = np.zeros(nx)\n",
    "    h_p_2[1:nx-1] = -8*c_A*K[1:nx-1]\n",
    "    h_p_3 = np.zeros(nx)\n",
    "    h_p_3[2:nx] = -c_A*K[0:nx-2] + 4*c_A*K[1:nx-1] + c_A*K[2:nx]\n",
    "    h_p_diags = np.array([-1, 0, 1])\n",
    "    h_p_M = spdiags(np.array([h_p_1, h_p_2, h_p_3]), h_diags, nx, nx).toarray()\n",
    "    \n",
    "    # Find G\n",
    "    G_M = np.zeros(nx)\n",
    "    this_dQ = dQ[k]\n",
    "    G_M[0] = 0\n",
    "    \n",
    "    for i in np.arange(1, nx-1):\n",
    "        G_M[i] = G(h2[i, k], h_prime[i, k], h2[i-1, k], h_prime[i-1, k], E0[i], this_dQ, k)\n",
    "        \n",
    "    # Find h at next time step\n",
    "    h_new = h_M@h2[:,k] + h_p_M@h_prime[:,k] + G_M*dt\n",
    "    h2[:, k+1] = h_new.transpose()\n",
    "    \n",
    "    # Find h_prime at next time step    \n",
    "    h_prime_new = h_prime_M_3@h_prime[:,k] + h_0_M_3@h_naught[:] + h_M_3@h2[:,k]\n",
    "    h_prime[:, k+1] = h_prime_new.transpose()"
   ]
  },
  {
   "cell_type": "markdown",
   "id": "cc94fc6e",
   "metadata": {},
   "source": [
    "# Results"
   ]
  },
  {
   "cell_type": "markdown",
   "id": "765d5b74-1153-4859-906b-5279adfec256",
   "metadata": {},
   "source": [
    "### Model with IC: h = 0 m"
   ]
  },
  {
   "cell_type": "code",
   "execution_count": 217,
   "id": "c87b36a2-8436-42c7-a276-b599419ae55a",
   "metadata": {},
   "outputs": [
    {
     "data": {
      "image/png": "[encoded data removed]",
      "text/plain": [
       "<Figure size 432x288 with 1 Axes>"
      ]
     },
     "metadata": {
      "needs_background": "light"
     },
     "output_type": "display_data"
    }
   ],
   "source": [
    "#Ice Sheet Visualization\n",
    "x_km = x/1000\n",
    "plt.plot(x_km, h1[:,150000],label= \"150 kyr\")\n",
    "plt.plot(x_km, h1[:,int(150000/2)],label= \"75 kyr\")\n",
    "plt.plot(x_km, h1[:,0],label= \"0 kyr\")\n",
    "\n",
    "plt.legend()\n",
    "plt.title(\"Ice Sheet Visualization\")\n",
    "plt.xlabel(\"Distance South from 74°N, km\")\n",
    "plt.ylabel(\"Ice Sheet Height, m\")\n",
    "plt.show()"
   ]
  },
  {
   "cell_type": "code",
   "execution_count": 208,
   "id": "2c33811d-c4bd-42ea-a395-dcf91e2b625c",
   "metadata": {},
   "outputs": [],
   "source": [
    "#Apply Trapezoid Rule for Numerical Integration of Ice Sheet Cross-Sectional Area\n",
    "hsum1=np.zeros(nt)\n",
    "for i in np.arange(0, nt):\n",
    "    for j in np.arange(0, nx-1):\n",
    "        hsum1[i] += (h1[j,i] + h1[j+1,i]) * (dx/2)"
   ]
  },
  {
   "cell_type": "code",
   "execution_count": 213,
   "id": "f4990f2b-f854-4a04-a4fe-6456b205129b",
   "metadata": {},
   "outputs": [
    {
     "data": {
      "image/png": "[encoded data removed]",
      "text/plain": [
       "<Figure size 432x288 with 1 Axes>"
      ]
     },
     "metadata": {
      "needs_background": "light"
     },
     "output_type": "display_data"
    }
   ],
   "source": [
    "#Visualized Cross-Sectional Area\n",
    "plt.plot(t,hsum1)\n",
    "plt.title(\"Ice Sheet Cross-Sectional Area\")\n",
    "plt.xlabel(\"Year\")\n",
    "plt.ylabel(\"Cross-Sectional Area, m²\")\n",
    "plt.show()"
   ]
  },
  {
   "cell_type": "markdown",
   "id": "0700faaf-e5e2-47ce-855f-9c4559f5d5f3",
   "metadata": {},
   "source": [
    "### Model with IC: h = 500 m"
   ]
  },
  {
   "cell_type": "code",
   "execution_count": 218,
   "id": "0256b96d-4334-4be1-989f-79a631d0084b",
   "metadata": {},
   "outputs": [
    {
     "data": {
      "image/png": "[encoded data removed]",
      "text/plain": [
       "<Figure size 432x288 with 1 Axes>"
      ]
     },
     "metadata": {
      "needs_background": "light"
     },
     "output_type": "display_data"
    }
   ],
   "source": [
    "#Ice Sheet Visualization\n",
    "x_km = x / 1000\n",
    "plt.plot(x_km, h2[:,150000],label= \"150 kyr\")\n",
    "plt.plot(x_km, h2[:,int(150000/2)],label= \"75 kyr\")\n",
    "plt.plot(x_km, h2[:,0],label= \"0 kyr\")\n",
    "\n",
    "plt.title(\"Ice Sheet Visualization\")\n",
    "plt.xlabel(\"Distance South from 74°N, km\")\n",
    "plt.ylabel(\"Ice Sheet Height, m\")\n",
    "plt.legend()\n",
    "plt.show()"
   ]
  },
  {
   "cell_type": "code",
   "execution_count": 186,
   "id": "09b9cf63-37a6-4a19-9cb0-a462787b0531",
   "metadata": {},
   "outputs": [],
   "source": [
    "#Apply Trapezoid Rule for Numerical Integration of Ice Sheet Cross-Sectional Area\n",
    "hsum2=np.zeros(nt)\n",
    "for i in np.arange(0, nt):\n",
    "    for j in np.arange(0, nx-1):\n",
    "        hsum2[i] += (h2[j,i] + h2[j+1,i]) * (dx/2)"
   ]
  },
  {
   "cell_type": "code",
   "execution_count": 212,
   "id": "7ab55893-5db6-4556-99ca-d4eef4a62d31",
   "metadata": {},
   "outputs": [
    {
     "ename": "NameError",
     "evalue": "name 'hsum2' is not defined",
     "output_type": "error",
     "traceback": [
      "\u001b[1;31m---------------------------------------------------------------------------\u001b[0m",
      "\u001b[1;31mNameError\u001b[0m                                 Traceback (most recent call last)",
      "\u001b[1;32m<ipython-input-212-7ddcea71e450>\u001b[0m in \u001b[0;36m<module>\u001b[1;34m\u001b[0m\n\u001b[0;32m      1\u001b[0m \u001b[1;31m#Visualized Cross-Sectional Area\u001b[0m\u001b[1;33m\u001b[0m\u001b[1;33m\u001b[0m\u001b[1;33m\u001b[0m\u001b[0m\n\u001b[1;32m----> 2\u001b[1;33m \u001b[0mplt\u001b[0m\u001b[1;33m.\u001b[0m\u001b[0mplot\u001b[0m\u001b[1;33m(\u001b[0m\u001b[0mt\u001b[0m\u001b[1;33m,\u001b[0m\u001b[0mhsum2\u001b[0m\u001b[1;33m)\u001b[0m\u001b[1;33m\u001b[0m\u001b[1;33m\u001b[0m\u001b[0m\n\u001b[0m\u001b[0;32m      3\u001b[0m \u001b[0mplt\u001b[0m\u001b[1;33m.\u001b[0m\u001b[0mtitle\u001b[0m\u001b[1;33m(\u001b[0m\u001b[1;34m\"Ice Sheet Cross-Sectional Area\"\u001b[0m\u001b[1;33m)\u001b[0m\u001b[1;33m\u001b[0m\u001b[1;33m\u001b[0m\u001b[0m\n\u001b[0;32m      4\u001b[0m \u001b[0mplt\u001b[0m\u001b[1;33m.\u001b[0m\u001b[0mxlabel\u001b[0m\u001b[1;33m(\u001b[0m\u001b[1;34m\"Year\"\u001b[0m\u001b[1;33m)\u001b[0m\u001b[1;33m\u001b[0m\u001b[1;33m\u001b[0m\u001b[0m\n\u001b[0;32m      5\u001b[0m \u001b[0mplt\u001b[0m\u001b[1;33m.\u001b[0m\u001b[0mylabel\u001b[0m\u001b[1;33m(\u001b[0m\u001b[1;34m\"Cross-Sectional Area, m²\"\u001b[0m\u001b[1;33m)\u001b[0m\u001b[1;33m\u001b[0m\u001b[1;33m\u001b[0m\u001b[0m\n",
      "\u001b[1;31mNameError\u001b[0m: name 'hsum2' is not defined"
     ]
    }
   ],
   "source": [
    "#Visualized Cross-Sectional Area\n",
    "plt.plot(t,hsum2)\n",
    "plt.title(\"Ice Sheet Cross-Sectional Area\")\n",
    "plt.xlabel(\"Year\")\n",
    "plt.ylabel(\"Cross-Sectional Area, m²\")\n",
    "plt.show()"
   ]
  },
  {
   "cell_type": "markdown",
   "id": "ddfea336",
   "metadata": {},
   "source": [
    "# Video Walkthrough"
   ]
  },
  {
   "cell_type": "markdown",
   "id": "b05b4792-b489-4015-8ae2-4e7c28311551",
   "metadata": {},
   "source": []
  },
  {
   "cell_type": "markdown",
   "id": "0ef8dd06",
   "metadata": {},
   "source": [
    "# References"
   ]
  },
  {
   "cell_type": "markdown",
   "id": "c3113493-a9cb-4f22-b01e-37c9d27ac85a",
   "metadata": {},
   "source": []
  }
 ],
 "metadata": {
  "kernelspec": {
   "display_name": "Python 3",
   "language": "python",
   "name": "python3"
  },
  "language_info": {
   "codemirror_mode": {
    "name": "ipython",
    "version": 3
   },
   "file_extension": ".py",
   "mimetype": "text/x-python",
   "name": "python",
   "nbconvert_exporter": "python",
   "pygments_lexer": "ipython3",
   "version": "3.8.8"
  }
 },
 "nbformat": 4,
 "nbformat_minor": 5
}
