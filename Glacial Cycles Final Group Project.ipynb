{
 "cells": [
  {
   "cell_type": "markdown",
   "id": "0f407ff7",
   "metadata": {},
   "source": [
    "# EAS 4610\n",
    "## Final Group Project\n",
    "## Glacial Cycles (Pollard 1982)\n",
    "\n",
    "### Dennis Frank\n",
    "### Marcus Morris\n",
    "### Nathan Warner"
   ]
  },
  {
   "cell_type": "code",
   "execution_count": 2,
   "id": "d36bfe31",
   "metadata": {},
   "outputs": [],
   "source": [
    "import numpy as np\n",
    "import matplotlib.pyplot as plt\n",
    "from scipy.sparse import spdiags"
   ]
  },
  {
   "cell_type": "markdown",
   "id": "88995ece",
   "metadata": {},
   "source": [
    "# Introduction"
   ]
  },
  {
   "cell_type": "markdown",
   "id": "e7caca0e",
   "metadata": {},
   "source": [
    "# Equations"
   ]
  },
  {
   "cell_type": "markdown",
   "id": "8922b759-a256-4c62-9a11-6e4f9fa29084",
   "metadata": {},
   "source": [
    "### Equation 2: Net Annual Ice Surface Mass Balance"
   ]
  },
  {
   "cell_type": "markdown",
   "id": "a8abd07b-a76d-49b8-b6d8-891915bce366",
   "metadata": {
    "tags": []
   },
   "source": [
    "(write out equation here)"
   ]
  },
  {
   "cell_type": "code",
   "execution_count": 3,
   "id": "cc02e0fb-a03e-4762-a110-c36ac3d5a7a1",
   "metadata": {
    "tags": []
   },
   "outputs": [],
   "source": [
    "#Constants\n",
    "a=0.81e-3 #Snowfall Constant, Unit:(1/yr) \n",
    "b=0.3e06 #Ice Melt Constant, Unit:(1/(m*yr))\n",
    "#E0, E is a function of E0(x), k, and dQ. Cant find dQ so may just need to use one of the linear lines for E given by article\n",
    "k= #Insolation Sensitivity\n",
    "S=0 #\n",
    "pi= #ice density\n",
    "pw= #sea water density"
   ]
  },
  {
   "cell_type": "code",
   "execution_count": 7,
   "id": "ce1eca1f-b57f-4392-8a6b-2330273a8302",
   "metadata": {
    "tags": []
   },
   "outputs": [],
   "source": [
    "#Function for Calculating the Mass Balance, G: (Snowfall - Ice Melt)\n",
    "def G(h,he,he_next,x): #Surface Elevation: H=h+h' (h: ice height, h'=he:bedrock elevation) #Distance to the Southern Border: x\n",
    "#    E = E0(x) + k*dQ\n",
    "    H = h+he\n",
    "    if (pi*h < (pW*(S-he))) and (he_next < S): #Calving Conditional Statement (maybe put this in separte fxn)\n",
    "        return -20\n",
    "    \n",
    "    elif (H-E) <= 1500:\n",
    "        return a*(H-E) - b*(H-E)**2\n",
    "    \n",
    "    else:\n",
    "        return 0.56"
   ]
  },
  {
   "cell_type": "markdown",
   "id": "fb5fc933",
   "metadata": {},
   "source": [
    "### Equation 3"
   ]
  },
  {
   "cell_type": "code",
   "execution_count": 20,
   "id": "1efec4ad",
   "metadata": {},
   "outputs": [
    {
     "ename": "ValueError",
     "evalue": "matmul: Input operand 0 does not have enough dimensions (has 0, gufunc core with signature (n?,k),(k,m?)->(n?,m?) requires 1)",
     "output_type": "error",
     "traceback": [
      "\u001b[1;31m---------------------------------------------------------------------------\u001b[0m",
      "\u001b[1;31mValueError\u001b[0m                                Traceback (most recent call last)",
      "Cell \u001b[1;32mIn [20], line 37\u001b[0m\n\u001b[0;32m     32\u001b[0m \u001b[38;5;66;03m## Boundary conditions\u001b[39;00m\n\u001b[0;32m     33\u001b[0m \n\u001b[0;32m     34\u001b[0m \u001b[38;5;66;03m## Initial conditions\u001b[39;00m\n\u001b[0;32m     36\u001b[0m \u001b[38;5;28;01mfor\u001b[39;00m k \u001b[38;5;129;01min\u001b[39;00m np\u001b[38;5;241m.\u001b[39marange(\u001b[38;5;241m0\u001b[39m, nt \u001b[38;5;241m-\u001b[39m \u001b[38;5;241m1\u001b[39m):\n\u001b[1;32m---> 37\u001b[0m     h_prime_new \u001b[38;5;241m=\u001b[39m \u001b[43mnp\u001b[49m\u001b[38;5;241;43m.\u001b[39;49m\u001b[43mmatmul\u001b[49m\u001b[43m(\u001b[49m\u001b[43mh_prime_M\u001b[49m\u001b[43m,\u001b[49m\u001b[43m \u001b[49m\u001b[43mh_prime\u001b[49m\u001b[43m[\u001b[49m\u001b[43m:\u001b[49m\u001b[43m,\u001b[49m\u001b[43mk\u001b[49m\u001b[43m]\u001b[49m\u001b[43m)\u001b[49m \u001b[38;5;241m+\u001b[39m np\u001b[38;5;241m.\u001b[39mmatmul(h_0_M, h_0[:]) \u001b[38;5;241m+\u001b[39m np\u001b[38;5;241m.\u001b[39mmatmul(h_M, h[:,k])\n\u001b[0;32m     38\u001b[0m     h[:, k\u001b[38;5;241m+\u001b[39m\u001b[38;5;241m1\u001b[39m] \u001b[38;5;241m=\u001b[39m h_prime_new\u001b[38;5;241m.\u001b[39mtranspose()\n",
      "\u001b[1;31mValueError\u001b[0m: matmul: Input operand 0 does not have enough dimensions (has 0, gufunc core with signature (n?,k),(k,m?)->(n?,m?) requires 1)"
     ]
    }
   ],
   "source": [
    "r = 0.3\n",
    "nu = 100 # km^2/yr\n",
    "hprime0 = 0\n",
    "\n",
    "t_f = 700000\n",
    "x_f = 4884\n",
    "dt = 50 #yr\n",
    "dx = 55.5 #km\n",
    "nt = int(t_f/dt) + 1\n",
    "nx = int(x_f/dx) + 1\n",
    "x = np.linspace(0, x_f, nx)\n",
    "t = np.linspace(0, t_f, nt)\n",
    "\n",
    "c_nu = (nu * dt) / (dx**2)\n",
    "\n",
    "h_prime = np.zeros([nx, nt])\n",
    "h_0 = np.zeros([nx]) ##initialize\n",
    "h = np.zeros([nx, nt]) #placeholder\n",
    "\n",
    "h_prime_data = np.array([c_nu*np.ones(nx), (1-2*c_nu)*np.ones(nx), c_nu*np.ones(nx)])\n",
    "h_prime_diags = np.array([-1, 0, 1])\n",
    "h_prime_M = spdiags(h_prime_data, h_prime_diags, nx, nx)\n",
    "\n",
    "h_0_data = np.array([-c_nu*np.ones(nx), (2*c_nu)*np.ones(nx), -c_nu*np.ones(nx)])\n",
    "h_0_diags = np.array([-1, 0, 1])\n",
    "h_0_M = spdiags(h_0_data, h_0_diags, nx, nx)\n",
    "\n",
    "h_data = np.array([r*c_nu*np.ones(nx), (-2*r*c_nu)*np.ones(nx), r*c_nu*np.ones(nx)])\n",
    "h_diags = np.array([-1, 0, 1])\n",
    "h_M = spdiags(h_data, h_diags, nx, nx)\n",
    "\n",
    "## Boundary conditions\n",
    "\n",
    "## Initial conditions\n",
    "\n",
    "for k in np.arange(0, nt - 1):\n",
    "    h_prime_new = np.matmul(h_prime_M, h_prime[:,k]) + np.matmul(h_0_M, h_0[:]) + np.matmul(h_M, h[:,k])\n",
    "    h[:, k+1] = h_prime_new.transpose()"
   ]
  },
  {
   "cell_type": "markdown",
   "id": "c9aa3d5b",
   "metadata": {},
   "source": [
    "# Numerical Methods"
   ]
  },
  {
   "cell_type": "markdown",
   "id": "cc94fc6e",
   "metadata": {},
   "source": [
    "# Results"
   ]
  },
  {
   "cell_type": "markdown",
   "id": "89a0816b",
   "metadata": {},
   "source": [
    "# Figures"
   ]
  },
  {
   "cell_type": "markdown",
   "id": "ddfea336",
   "metadata": {},
   "source": [
    "# Video Walkthrough"
   ]
  },
  {
   "cell_type": "markdown",
   "id": "0ef8dd06",
   "metadata": {},
   "source": [
    "# References"
   ]
  }
 ],
 "metadata": {
  "kernelspec": {
   "display_name": "Python 3",
   "language": "python",
   "name": "python3"
  },
  "language_info": {
   "codemirror_mode": {
    "name": "ipython",
    "version": 3
   },
   "file_extension": ".py",
   "mimetype": "text/x-python",
   "name": "python",
   "nbconvert_exporter": "python",
   "pygments_lexer": "ipython3",
   "version": "3.8.8"
  }
 },
 "nbformat": 4,
 "nbformat_minor": 5
}
