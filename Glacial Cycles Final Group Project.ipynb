{
 "cells": [
  {
   "cell_type": "markdown",
   "id": "0f407ff7",
   "metadata": {},
   "source": [
    "# EAS 4610\n",
    "## Final Group Project\n",
    "## Glacial Cycles (Pollard 1982)\n",
    "\n",
    "### Dennis Frank\n",
    "### Marcus Morris\n",
    "### Nathan Warner"
   ]
  },
  {
   "cell_type": "code",
   "execution_count": 1,
   "id": "d36bfe31",
   "metadata": {},
   "outputs": [],
   "source": [
    "import numpy as np\n",
    "import matplotlib.pyplot as plt\n",
    "from scipy.sparse import spdiags\n",
    "import pandas as pd"
   ]
  },
  {
   "cell_type": "markdown",
   "id": "88995ece",
   "metadata": {},
   "source": [
    "# Introduction"
   ]
  },
  {
   "cell_type": "markdown",
   "id": "e7caca0e",
   "metadata": {},
   "source": [
    "# Equations"
   ]
  },
  {
   "cell_type": "code",
   "execution_count": 75,
   "id": "d7484884-990f-478c-a11c-16d671ad3660",
   "metadata": {
    "tags": []
   },
   "outputs": [],
   "source": [
    "#Constants\n",
    "a=0.81e-3 #Snowfall Constant, Unit:(1/yr) \n",
    "b=0.3e-6 #Ice Melt Constant, Unit:(1/(m*yr))\n",
    "k=25 #Insolation Sensitivity\n",
    "S=0 #Elevation of Current Sea Level\n",
    "pi=917 #ice density (kg/m^3)\n",
    "pw=1027 #sea water density (kg/m^3)\n",
    "A = 5.77e-4 # 1/(m^3 yr)\n",
    "alpha = 5\n",
    "beta = 2\n",
    "r = 0.3\n",
    "nu = 100 # km^2/yr\n",
    "nu = nu * 1000 * 1000\n",
    "\n",
    "t_f = 100000\n",
    "x_f = 4884000\n",
    "dt = 0.01 #yr\n",
    "dx = 55500 #m\n",
    "nt = int(t_f/dt) + 1\n",
    "nx = int(x_f/dx) + 1\n",
    "x = np.linspace(0, x_f, nx)\n",
    "t = np.linspace(0, t_f, nt)\n",
    "\n",
    "c_nu = (nu * dt) / (dx**2)\n",
    "c_A = (A * dt) / (4*dx**2)"
   ]
  },
  {
   "cell_type": "code",
   "execution_count": 76,
   "id": "330c69b8-5703-4575-9b05-11f5b3121120",
   "metadata": {
    "tags": []
   },
   "outputs": [],
   "source": [
    "#Function for Calculating the Mass Balance, G: (Snowfall - Ice Melt)\n",
    "def G(h,h_prime,h_prev,h_prime_prev,E0,dQ): #h:ice height, h':bedrock elevation, x:distance, E0:current equilibrium altitude, dq:insolation change @ 65°N\n",
    "#    E = E0 + k*dQ\n",
    "#    H = h+h_prime #Surface Elevation: H=h+h'\n",
    "#    if (pi*h_prev < (pw*(S-h_prime_prev))) and (h_prime < S): #Calving Conditional Statement (maybe put this in separte fxn)\n",
    "#        return -20\n",
    "    \n",
    "#    if (H-E) <= 1500:\n",
    "#        return a*(H-E) - b*(H-E)**2\n",
    "    \n",
    "#    else:\n",
    "        return 0.56"
   ]
  },
  {
   "cell_type": "code",
   "execution_count": 86,
   "id": "bd47e337-48a3-4f71-ae8e-f4a4e201c1ba",
   "metadata": {
    "tags": []
   },
   "outputs": [
    {
     "name": "stderr",
     "output_type": "stream",
     "text": [
      "<ipython-input-86-2727d3c3aaeb>:59: RuntimeWarning: overflow encountered in power\n",
      "  K[1:-1] = h[1:-1,k]**alpha + abs(((h[2:nx,k] - h[0:nx-2,k])/(2*dx)) + ((h_prime[2:nx,k] - h_prime[0:nx-2,k])/(2*dx)))**beta\n",
      "<ipython-input-86-2727d3c3aaeb>:59: RuntimeWarning: overflow encountered in square\n",
      "  K[1:-1] = h[1:-1,k]**alpha + abs(((h[2:nx,k] - h[0:nx-2,k])/(2*dx)) + ((h_prime[2:nx,k] - h_prime[0:nx-2,k])/(2*dx)))**beta\n",
      "<ipython-input-86-2727d3c3aaeb>:59: RuntimeWarning: invalid value encountered in add\n",
      "  K[1:-1] = h[1:-1,k]**alpha + abs(((h[2:nx,k] - h[0:nx-2,k])/(2*dx)) + ((h_prime[2:nx,k] - h_prime[0:nx-2,k])/(2*dx)))**beta\n",
      "<ipython-input-86-2727d3c3aaeb>:65: RuntimeWarning: invalid value encountered in subtract\n",
      "  h_1[0:nx-2] = c_A*K[0:nx-2] + 4*c_A*K[1:nx-1] - c_A*K[2:nx]\n",
      "<ipython-input-86-2727d3c3aaeb>:71: RuntimeWarning: invalid value encountered in add\n",
      "  h_3[2:nx] = -c_A*K[0:nx-2] + 4*c_A*K[1:nx-1] + c_A*K[2:nx]\n",
      "<ipython-input-86-2727d3c3aaeb>:76: RuntimeWarning: invalid value encountered in subtract\n",
      "  h_p_1[0:nx-2] = c_A*K[0:nx-2] + 4*c_A*K[1:nx-1] - c_A*K[2:nx]\n",
      "<ipython-input-86-2727d3c3aaeb>:80: RuntimeWarning: invalid value encountered in add\n",
      "  h_p_3[2:nx] = -c_A*K[0:nx-2] + 4*c_A*K[1:nx-1] + c_A*K[2:nx]\n",
      "<ipython-input-86-2727d3c3aaeb>:93: RuntimeWarning: invalid value encountered in matmul\n",
      "  h_new = h_M@h[:,k] + h_p_M@h_prime[:,k] + G_M\n"
     ]
    },
    {
     "data": {
      "text/plain": [
       "array([nan, nan, nan, nan, nan, nan, nan, nan, nan, nan, nan, nan, nan,\n",
       "       nan, nan, nan, nan, nan, nan, nan, nan, nan, nan, nan, nan, nan,\n",
       "       nan, nan, nan, nan, nan, nan, nan, nan, nan, nan, nan, nan, nan,\n",
       "       nan, nan, nan, nan, nan, nan, nan, nan, nan, nan, nan, nan, nan,\n",
       "       nan, nan, nan, nan, nan, nan, nan, nan, nan, nan, nan, nan, nan,\n",
       "       nan, nan, nan, nan, nan, nan, nan, nan, nan, nan, nan, nan, nan,\n",
       "       nan, nan, nan, nan, nan, nan, nan, nan, nan, nan, nan])"
      ]
     },
     "execution_count": 86,
     "metadata": {},
     "output_type": "execute_result"
    }
   ],
   "source": [
    "#### h = np.zeros([nx, nt])\n",
    "h_prime = np.zeros([nx, nt])\n",
    "\n",
    "## Initial conditions\n",
    "h_0 = np.zeros([nx])\n",
    "h_prime_0 = np.zeros([nx])\n",
    "h_naught = np.zeros([nx])\n",
    "\n",
    "h[:, 0] = h_0\n",
    "h_prime[:, 0] = h_prime_0\n",
    "\n",
    "## EQUATION 3 MATRICES\n",
    "h_prime_data = np.array([c_nu*np.ones(nx), (1-2*c_nu)*np.ones(nx), c_nu*np.ones(nx)])\n",
    "h_prime_diags = np.array([-1, 0, 1])\n",
    "h_prime_M_3 = spdiags(h_prime_data, h_prime_diags, nx, nx).toarray()\n",
    "\n",
    "h_0_data = np.array([-c_nu*np.ones(nx), (2*c_nu)*np.ones(nx), -c_nu*np.ones(nx)])\n",
    "h_0_diags = np.array([-1, 0, 1])\n",
    "h_0_M_3 = spdiags(h_0_data, h_0_diags, nx, nx).toarray()\n",
    "\n",
    "h_data = np.array([r*c_nu*np.ones(nx), (-2*r*c_nu)*np.ones(nx), r*c_nu*np.ones(nx)])\n",
    "h_diags = np.array([-1, 0, 1])\n",
    "h_M_3 = spdiags(h_data, h_diags, nx, nx).toarray()\n",
    "\n",
    "## EQUATION 3 BOUNDARY CONDITIONS\n",
    "h_prime_M_3[0, 0] = 0\n",
    "h_prime_M_3[0, 1] = 0\n",
    "h_prime_M_3[-1, -1] = 0\n",
    "h_prime_M_3[-1, -2] = 0\n",
    "\n",
    "h_0_M_3[0, 0] = 1\n",
    "h_0_M_3[0, 1] = 0\n",
    "h_0_M_3[-1, -1] = 1\n",
    "h_0_M_3[-1, -2] = 0\n",
    "\n",
    "h_M_3[0, 0] = 0\n",
    "h_M_3[0, 1] = 0\n",
    "h_M_3[-1, -1] = 0\n",
    "h_M_3[-1, -2] = 0\n",
    "\n",
    "#Define Insolation as a Function of Time (Q)\n",
    "df = pd.read_csv('Milankovitch.dat',skiprows=1300,delim_whitespace=True, names=['year','lat','Q','x','y','z','v']) #only first 3 rows are of interest\n",
    "Q = df['Q'].to_numpy() #values in W/m^2\n",
    "n = np.ceil(len(t)/len(Q))\n",
    "Q = list(np.repeat(Q,n)) #repeat values\n",
    "#Run Loop to calculate dQ\n",
    "Q_present=Q[-1]\n",
    "dQ = np.ones((len(Q),1))\n",
    "for i in np.arange(len(Q)):\n",
    "    dQ[i] = Q[i] - Q_present\n",
    "dQ = dQ.reshape(-1)\n",
    "#Define Equilibrium-Line Altitude as a Function of latitude\n",
    "E0 = (0.9e-3)*x + 55.5*2\n",
    "\n",
    "## MASTER LOOP\n",
    "for k in np.arange(0, 3000-1):\n",
    "    # EQUATION 1 MATRICES\n",
    "    K = np.zeros([nx])\n",
    "    K[1:-1] = h[1:-1,k]**alpha + abs(((h[2:nx,k] - h[0:nx-2,k])/(2*dx)) + ((h_prime[2:nx,k] - h_prime[0:nx-2,k])/(2*dx)))**beta\n",
    "    K[0] = K[1]\n",
    "    K[-1] = K[nx - 2]\n",
    "#    print(K)\n",
    "\n",
    "    h_1 = np.zeros(nx)\n",
    "    h_1[0:nx-2] = c_A*K[0:nx-2] + 4*c_A*K[1:nx-1] - c_A*K[2:nx]\n",
    "    h_2 = np.zeros(nx)\n",
    "    h_2[1:nx-1] = 1 - 8*c_A*K[1:nx-1]\n",
    "    h_2[0] = 1\n",
    "    h_2[-1] = 1\n",
    "    h_3 = np.zeros(nx)\n",
    "    h_3[2:nx] = -c_A*K[0:nx-2] + 4*c_A*K[1:nx-1] + c_A*K[2:nx]\n",
    "    h_diags = np.array([-1, 0, 1])\n",
    "    h_M = spdiags(np.array([h_1, h_2, h_3]), h_diags, nx, nx).toarray()\n",
    "\n",
    "    h_p_1 = np.zeros(nx)\n",
    "    h_p_1[0:nx-2] = c_A*K[0:nx-2] + 4*c_A*K[1:nx-1] - c_A*K[2:nx]\n",
    "    h_p_2 = np.zeros(nx)\n",
    "    h_p_2[1:nx-1] = -8*c_A*K[1:nx-1]\n",
    "    h_p_3 = np.zeros(nx)\n",
    "    h_p_3[2:nx] = -c_A*K[0:nx-2] + 4*c_A*K[1:nx-1] + c_A*K[2:nx]\n",
    "    h_p_diags = np.array([-1, 0, 1])\n",
    "    h_p_M = spdiags(np.array([h_p_1, h_p_2, h_p_3]), h_diags, nx, nx).toarray()\n",
    "    \n",
    "    # Find G\n",
    "    G_M = np.zeros(nx)\n",
    "    this_dQ = dQ[k]\n",
    "    G_M[0] = G(h[0, k], h_prime[0, k], h[0, k], h_prime[0, k], E0[0], this_dQ)\n",
    "    \n",
    "    for i in np.arange(1, nx-1):\n",
    "        G_M[i] = G(h[i, k], h_prime[i, k], h[i-1, k], h_prime[i-1, k], E0[i], this_dQ)\n",
    "        \n",
    "    # Find h at next time step\n",
    "    h_new = h_M@h[:,k] + h_p_M@h_prime[:,k] + G_M\n",
    "    h[:, k+1] = h_new.transpose()\n",
    "    \n",
    "    # Find h_prime at next time step    \n",
    "    h_prime_new = h_prime_M_3@h_prime[:,k] + h_0_M_3@h_naught[:] + h_M_3@h[:,k]\n",
    "    h_prime[:, k+1] = h_prime_new.transpose()\n",
    "    \n",
    "h[:,3000]"
   ]
  },
  {
   "cell_type": "code",
   "execution_count": 99,
   "id": "09314bea-da7e-4ddc-bc4b-b7cecf3efa2a",
   "metadata": {},
   "outputs": [
    {
     "data": {
      "text/plain": [
       "array([ 1.00800000e+003,  1.57682600e+220, -1.40289774e+221,\n",
       "        1.57679851e+220,  3.12014218e+214,  2.20232173e+180,\n",
       "        3.82845080e+042,  6.86483926e+002,  6.96434335e+002,\n",
       "        7.06239693e+002,  7.16591894e+002,  7.26595663e+002,\n",
       "        7.35507722e+002,  7.43237475e+002,  7.49811107e+002,\n",
       "        7.55440263e+002,  7.60189990e+002,  7.64339759e+002,\n",
       "        7.67579908e+002,  7.70999730e+002,  7.72403393e+002,\n",
       "        7.76414919e+002,  7.74291144e+002,  7.81215604e+002,\n",
       "        7.72191415e+002,  7.84577473e+002,  7.66195268e+002,\n",
       "        7.84420193e+002,  7.59514473e+002,  7.80788073e+002,\n",
       "        7.55577047e+002,  7.76362186e+002,  7.54704532e+002,\n",
       "        7.73165008e+002,  7.55555791e+002,  7.71586262e+002,\n",
       "        7.57002930e+002,  7.71294761e+002,  7.58451430e+002,\n",
       "        7.71850467e+002,  7.59670452e+002,  7.72855012e+002,\n",
       "        7.60621221e+002,  7.74076299e+002,  7.61282817e+002,\n",
       "        7.75334155e+002,  7.61878134e+002,  7.76479308e+002,\n",
       "        7.62541022e+002,  7.77321968e+002,  7.63409233e+002,\n",
       "        7.77794855e+002,  7.64536953e+002,  7.77820258e+002,\n",
       "        7.65756862e+002,  7.77304210e+002,  7.66821538e+002,\n",
       "        7.76304507e+002,  7.67450726e+002,  7.75025329e+002,\n",
       "        7.67572603e+002,  7.73710459e+002,  7.67218234e+002,\n",
       "        7.72601960e+002,  7.66570164e+002,  7.71871790e+002,\n",
       "        7.65836670e+002,  7.71526940e+002,  7.65206593e+002,\n",
       "        7.71294285e+002,  7.64743054e+002,  7.70449524e+002,\n",
       "        7.64051138e+002,  7.67783857e+002,  7.61799289e+002,\n",
       "        7.61922038e+002,  7.55792513e+002,  7.51592583e+002,\n",
       "        7.43833453e+002,  7.35234704e+002,  7.23979608e+002,\n",
       "        7.10276231e+002,  6.93174574e+002,  6.71640413e+002,\n",
       "        6.43717778e+002,  6.05933622e+002,  5.51298053e+002,\n",
       "        4.42865910e+002,  0.00000000e+000])"
      ]
     },
     "execution_count": 99,
     "metadata": {},
     "output_type": "execute_result"
    }
   ],
   "source": [
    "h[:,1800]"
   ]
  },
  {
   "cell_type": "code",
   "execution_count": 25,
   "id": "778591ed-0b58-48e3-81e4-c3863f22260b",
   "metadata": {},
   "outputs": [
    {
     "data": {
      "text/plain": [
       "[<matplotlib.lines.Line2D at 0x28f8bf61220>]"
      ]
     },
     "execution_count": 25,
     "metadata": {},
     "output_type": "execute_result"
    },
    {
     "data": {
      "image/png": "[encoded data removed]",
      "text/plain": [
       "<Figure size 432x288 with 1 Axes>"
      ]
     },
     "metadata": {
      "needs_background": "light"
     },
     "output_type": "display_data"
    }
   ],
   "source": [
    "E0 = (0.9e-3)*x + 55.5*2\n",
    "E = E0 + k*dQ[0]\n",
    "plt.plot(x,E)"
   ]
  },
  {
   "cell_type": "code",
   "execution_count": 100,
   "id": "0104ee3f-1252-44d6-81b1-02900c5d9216",
   "metadata": {},
   "outputs": [
    {
     "data": {
      "image/png": "[encoded data removed]",
      "text/plain": [
       "<Figure size 432x288 with 1 Axes>"
      ]
     },
     "metadata": {
      "needs_background": "light"
     },
     "output_type": "display_data"
    }
   ],
   "source": [
    "plt.plot(h[:,1000])\n",
    "plt.show()"
   ]
  },
  {
   "cell_type": "markdown",
   "id": "c9aa3d5b",
   "metadata": {},
   "source": [
    "# Numerical Methods"
   ]
  },
  {
   "cell_type": "markdown",
   "id": "cc94fc6e",
   "metadata": {},
   "source": [
    "# Results"
   ]
  },
  {
   "cell_type": "markdown",
   "id": "89a0816b",
   "metadata": {},
   "source": [
    "# Figures"
   ]
  },
  {
   "cell_type": "markdown",
   "id": "ddfea336",
   "metadata": {},
   "source": [
    "# Video Walkthrough"
   ]
  },
  {
   "cell_type": "markdown",
   "id": "0ef8dd06",
   "metadata": {},
   "source": [
    "# References"
   ]
  }
 ],
 "metadata": {
  "kernelspec": {
   "display_name": "Python 3",
   "language": "python",
   "name": "python3"
  },
  "language_info": {
   "codemirror_mode": {
    "name": "ipython",
    "version": 3
   },
   "file_extension": ".py",
   "mimetype": "text/x-python",
   "name": "python",
   "nbconvert_exporter": "python",
   "pygments_lexer": "ipython3",
   "version": "3.8.8"
  }
 },
 "nbformat": 4,
 "nbformat_minor": 5
}
