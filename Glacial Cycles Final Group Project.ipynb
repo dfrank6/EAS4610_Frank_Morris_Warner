{
 "cells": [
  {
   "cell_type": "markdown",
   "id": "0f407ff7",
   "metadata": {},
   "source": [
    "# EAS 4610\n",
    "## Final Group Project\n",
    "## Glacial Cycles (Pollard 1982)\n",
    "\n",
    "### Dennis Frank\n",
    "### Marcus Morris\n",
    "### Nathan Warner"
   ]
  },
  {
   "cell_type": "code",
   "execution_count": 7,
   "id": "d36bfe31",
   "metadata": {},
   "outputs": [],
   "source": [
    "import numpy as np\n",
    "import matplotlib.pyplot as plt\n",
    "from scipy.sparse import spdiags\n",
    "import pandas as pd"
   ]
  },
  {
   "cell_type": "markdown",
   "id": "88995ece",
   "metadata": {},
   "source": [
    "# Introduction"
   ]
  },
  {
   "cell_type": "markdown",
   "id": "e7caca0e",
   "metadata": {},
   "source": [
    "# Equations"
   ]
  },
  {
   "cell_type": "code",
   "execution_count": 131,
   "id": "d7484884-990f-478c-a11c-16d671ad3660",
   "metadata": {
    "tags": []
   },
   "outputs": [],
   "source": [
    "#Constants\n",
    "a=0.81e-3 #Snowfall Constant, Unit:(1/yr) \n",
    "b=0.3e-6 #Ice Melt Constant, Unit:(1/(m*yr))\n",
    "k_sens=25 #Insolation Sensitivity (m*day/Ly)\n",
    "k_sens = k_sens / 41840 # 1 Ly = 41840 J/m^2\n",
    "S=0 #Elevation of Current Sea Level\n",
    "pi=917 #ice density (kg/m^3)\n",
    "pw=1027 #sea water density (kg/m^3)\n",
    "A = 5.77e-4 # 1/(m^3 yr)\n",
    "alpha = 5\n",
    "beta = 2\n",
    "r = 0.3\n",
    "nu = 100 # km^2/yr\n",
    "nu = nu * 1000 * 1000\n",
    "\n",
    "t_f = 10000\n",
    "x_f = 4884000\n",
    "dt = 0.1 #yr\n",
    "dx = 55500 #m\n",
    "nt = int(t_f/dt) + 1\n",
    "nx = int(x_f/dx) + 1\n",
    "x = np.linspace(0, x_f, nx)\n",
    "t = np.linspace(0, t_f, nt)\n",
    "\n",
    "c_nu = (nu * dt) / (dx**2)\n",
    "c_A = (A * dt) / (4*dx**2)"
   ]
  },
  {
   "cell_type": "code",
   "execution_count": 133,
   "id": "330c69b8-5703-4575-9b05-11f5b3121120",
   "metadata": {
    "tags": []
   },
   "outputs": [],
   "source": [
    "#Function for Calculating the Mass Balance, G: (Snowfall - Ice Melt)\n",
    "def G(h,h_prime,h_prev,h_prime_prev,E0,dQ): #h:ice height, h':bedrock elevation, x:distance, E0:current equilibrium altitude, dq:insolation change @ 65°N\n",
    "    E = E0 + k_sens*dQ\n",
    "    H = h+h_prime #Surface Elevation: H=h+h'\n",
    "#    if (pi*h_prev < (pw*(S-h_prime_prev))) and (h_prime < S): #Calving Conditional Statement (maybe put this in separte fxn)\n",
    "#        return -20\n",
    "#     if (H-E) <= -1000:\n",
    "#         return a*(H-E) - b*((H-E)**2)\n",
    "#     else:\n",
    "    return 0.56"
   ]
  },
  {
   "cell_type": "code",
   "execution_count": 136,
   "id": "bd47e337-48a3-4f71-ae8e-f4a4e201c1ba",
   "metadata": {
    "tags": []
   },
   "outputs": [
    {
     "data": {
      "text/plain": [
       "array([560.        , 496.1977678 , 511.34613419, 469.67877297,\n",
       "       488.76414485, 473.74132463, 483.74982028, 477.78622853,\n",
       "       483.214234  , 480.17596123, 483.73561939, 481.60308783,\n",
       "       484.47032108, 482.42651667, 485.15053585, 482.82717462,\n",
       "       485.68022608, 482.93782563, 486.03575417, 482.87594972,\n",
       "       486.23463111, 482.73794288, 486.31681459, 482.58931396,\n",
       "       486.32788105, 482.4646882 , 486.30718391, 482.37669069,\n",
       "       486.28330963, 482.32748766, 486.27474528, 482.31834023,\n",
       "       486.2917181 , 482.35536182, 486.33579219, 482.45078427,\n",
       "       486.39550305, 482.61840689, 486.43873603, 482.86111084,\n",
       "       486.40635331, 483.15044328, 486.21568626, 483.40640755,\n",
       "       485.78060063, 483.4957586 , 485.03995285, 483.26286551,\n",
       "       483.96957168, 482.57934745, 482.56336868, 481.3755715 ,\n",
       "       480.80341271, 479.6334892 , 478.64846709, 477.35598901,\n",
       "       476.04320142, 474.53943132, 472.92981955, 471.16138511,\n",
       "       469.25084879, 467.17983975, 464.94524578, 462.53611007,\n",
       "       459.94372777, 457.15752869, 454.16685812, 450.96057974,\n",
       "       447.52762082, 443.85734615, 439.94014748, 435.7680961 ,\n",
       "       431.33563414, 426.64017701, 421.68244402, 416.46623909,\n",
       "       410.99728358, 405.28052611, 399.31506334, 393.08526192,\n",
       "       386.54555867, 379.59396905, 372.02353282, 363.4257487 ,\n",
       "       352.97443188, 338.8511944 , 316.24404457, 265.98535186,\n",
       "         0.        ])"
      ]
     },
     "execution_count": 136,
     "metadata": {},
     "output_type": "execute_result"
    }
   ],
   "source": [
    "h = np.zeros([nx, nt])\n",
    "h_prime = np.zeros([nx, nt])\n",
    "\n",
    "## Initial conditions\n",
    "h_0 = np.zeros([nx])\n",
    "h_prime_0 = np.zeros([nx])\n",
    "h_naught = np.zeros([nx])\n",
    "\n",
    "h[:, 0] = h_0\n",
    "h_prime[:, 0] = h_prime_0\n",
    "\n",
    "## EQUATION 3 MATRICES\n",
    "h_prime_data = np.array([c_nu*np.ones(nx), (1-2*c_nu)*np.ones(nx), c_nu*np.ones(nx)])\n",
    "h_prime_diags = np.array([-1, 0, 1])\n",
    "h_prime_M_3 = spdiags(h_prime_data, h_prime_diags, nx, nx).toarray()\n",
    "\n",
    "h_0_data = np.array([-c_nu*np.ones(nx), (2*c_nu)*np.ones(nx), -c_nu*np.ones(nx)])\n",
    "h_0_diags = np.array([-1, 0, 1])\n",
    "h_0_M_3 = spdiags(h_0_data, h_0_diags, nx, nx).toarray()\n",
    "\n",
    "h_data = np.array([r*c_nu*np.ones(nx), (-2*r*c_nu)*np.ones(nx), r*c_nu*np.ones(nx)])\n",
    "h_diags = np.array([-1, 0, 1])\n",
    "h_M_3 = spdiags(h_data, h_diags, nx, nx).toarray()\n",
    "\n",
    "## EQUATION 3 BOUNDARY CONDITIONS\n",
    "h_prime_M_3[0, 0] = 0\n",
    "h_prime_M_3[0, 1] = 0\n",
    "h_prime_M_3[-1, -1] = 0\n",
    "h_prime_M_3[-1, -2] = 0\n",
    "\n",
    "h_0_M_3[0, 0] = 1\n",
    "h_0_M_3[0, 1] = 0\n",
    "h_0_M_3[-1, -1] = 1\n",
    "h_0_M_3[-1, -2] = 0\n",
    "\n",
    "h_M_3[0, 0] = 0\n",
    "h_M_3[0, 1] = 0\n",
    "h_M_3[-1, -1] = 0\n",
    "h_M_3[-1, -2] = 0\n",
    "\n",
    "#Define Insolation as a Function of Time (Q)\n",
    "df = pd.read_csv('Milankovitch.dat',skiprows=1300,delim_whitespace=True, names=['year','lat','Q','x','y','z','v']) #only first 3 rows are of interest\n",
    "Q = df['Q'].to_numpy() #values in W/m^2\n",
    "n = np.ceil(len(t)/len(Q))\n",
    "Q = list(np.repeat(Q,n)) #repeat values\n",
    "#Run Loop to calculate dQ\n",
    "Q_present=Q[-1]\n",
    "dQ = np.ones((len(Q),1))\n",
    "for i in np.arange(len(Q)):\n",
    "    dQ[i] = Q[i] - Q_present\n",
    "dQ = dQ.reshape(-1)\n",
    "dQ = dQ * 60 * 60 * 24 # convert to J/(m^2 * day)\n",
    "#Define Equilibrium-Line Altitude as a Function of latitude\n",
    "E0 = (0.9e-3)*x - 99.9\n",
    "\n",
    "## MASTER LOOP\n",
    "time = 10000\n",
    "for k in np.arange(0, time):\n",
    "    # EQUATION 1 MATRICES\n",
    "    K = np.zeros([nx])\n",
    "    K[1:-1] = h[1:-1,k]**alpha + abs(((h[2:nx,k] - h[0:nx-2,k])/(2*dx)) + ((h_prime[2:nx,k] - h_prime[0:nx-2,k])/(2*dx)))**beta\n",
    "#     K[0] = K[1]\n",
    "#     K[-1] = K[nx - 2]\n",
    "\n",
    "    h_1 = np.zeros(nx)\n",
    "    h_1[0:nx-2] = c_A*K[0:nx-2] + 4*c_A*K[1:nx-1] - c_A*K[2:nx]\n",
    "    h_2 = np.zeros(nx)\n",
    "    h_2[1:nx-1] = 1 - 8*c_A*K[1:nx-1]\n",
    "    h_2[0] = 1\n",
    "    h_2[-1] = 1\n",
    "    h_3 = np.zeros(nx)\n",
    "    h_3[2:nx] = -c_A*K[0:nx-2] + 4*c_A*K[1:nx-1] + c_A*K[2:nx]\n",
    "    h_diags = np.array([-1, 0, 1])\n",
    "    h_M = spdiags(np.array([h_1, h_2, h_3]), h_diags, nx, nx).toarray()\n",
    "\n",
    "    h_p_1 = np.zeros(nx)\n",
    "    h_p_1[0:nx-2] = c_A*K[0:nx-2] + 4*c_A*K[1:nx-1] - c_A*K[2:nx]\n",
    "    h_p_2 = np.zeros(nx)\n",
    "    h_p_2[1:nx-1] = -8*c_A*K[1:nx-1]\n",
    "    h_p_3 = np.zeros(nx)\n",
    "    h_p_3[2:nx] = -c_A*K[0:nx-2] + 4*c_A*K[1:nx-1] + c_A*K[2:nx]\n",
    "    h_p_diags = np.array([-1, 0, 1])\n",
    "    h_p_M = spdiags(np.array([h_p_1, h_p_2, h_p_3]), h_diags, nx, nx).toarray()\n",
    "    \n",
    "    # Find G\n",
    "    G_M = np.zeros(nx)\n",
    "    this_dQ = dQ[k]\n",
    "    G_M[0] = G(h[0, k], h_prime[0, k], h[0, k], h_prime[0, k], E0[0], this_dQ)\n",
    "    \n",
    "    for i in np.arange(1, nx-1):\n",
    "        G_M[i] = G(h[i, k], h_prime[i, k], h[i-1, k], h_prime[i-1, k], E0[i], this_dQ)\n",
    "        \n",
    "    # Find h at next time step\n",
    "    h_new = h_M@h[:,k] + h_p_M@h_prime[:,k] + G_M*dt\n",
    "    h[:, k+1] = h_new.transpose()\n",
    "    \n",
    "    # Find h_prime at next time step    \n",
    "    h_prime_new = h_prime_M_3@h_prime[:,k] + h_0_M_3@h_naught[:] + h_M_3@h[:,k]\n",
    "    h_prime[:, k+1] = h_prime_new.transpose()\n",
    "    \n",
    "h[:,time]"
   ]
  },
  {
   "cell_type": "code",
   "execution_count": 114,
   "id": "09314bea-da7e-4ddc-bc4b-b7cecf3efa2a",
   "metadata": {},
   "outputs": [
    {
     "data": {
      "text/plain": [
       "array([0., 0., 0., 0., 0., 0., 0., 0., 0., 0., 0., 0., 0., 0., 0., 0., 0.,\n",
       "       0., 0., 0., 0., 0., 0., 0., 0., 0., 0., 0., 0., 0., 0., 0., 0., 0.,\n",
       "       0., 0., 0., 0., 0., 0., 0., 0., 0., 0., 0., 0., 0., 0., 0., 0., 0.,\n",
       "       0., 0., 0., 0., 0., 0., 0., 0., 0., 0., 0., 0., 0., 0., 0., 0., 0.,\n",
       "       0., 0., 0., 0., 0., 0., 0., 0., 0., 0., 0., 0., 0., 0., 0., 0., 0.,\n",
       "       0., 0., 0., 0.])"
      ]
     },
     "execution_count": 114,
     "metadata": {},
     "output_type": "execute_result"
    }
   ],
   "source": [
    "h[:,1800]"
   ]
  },
  {
   "cell_type": "code",
   "execution_count": 77,
   "id": "778591ed-0b58-48e3-81e4-c3863f22260b",
   "metadata": {},
   "outputs": [
    {
     "name": "stdout",
     "output_type": "stream",
     "text": [
      "1\n",
      "2\n",
      "3\n",
      "4\n",
      "5\n",
      "6\n",
      "7\n",
      "8\n",
      "9\n",
      "10\n",
      "11\n",
      "12\n",
      "13\n",
      "14\n",
      "15\n",
      "16\n",
      "17\n",
      "18\n",
      "19\n"
     ]
    },
    {
     "data": {
      "image/png": "[encoded data removed]",
      "text/plain": [
       "<Figure size 640x480 with 1 Axes>"
      ]
     },
     "metadata": {},
     "output_type": "display_data"
    }
   ],
   "source": [
    "E0 = (0.9e-3)*x - 99.9\n",
    "E = E0 + k_sens*dQ[0]\n",
    "plt.plot(x,E)\n",
    "k_sens\n",
    "dQ[0]\n",
    "E0\n",
    "\n",
    "for i in np.arange(1, 20):\n",
    "    print(i)"
   ]
  },
  {
   "cell_type": "code",
   "execution_count": 27,
   "id": "0104ee3f-1252-44d6-81b1-02900c5d9216",
   "metadata": {},
   "outputs": [
    {
     "data": {
      "image/png": "[encoded data removed]",
      "text/plain": [
       "<Figure size 640x480 with 1 Axes>"
      ]
     },
     "metadata": {},
     "output_type": "display_data"
    }
   ],
   "source": [
    "plt.plot(h[:,time])\n",
    "plt.show()"
   ]
  },
  {
   "cell_type": "markdown",
   "id": "c9aa3d5b",
   "metadata": {},
   "source": [
    "# Numerical Methods"
   ]
  },
  {
   "cell_type": "markdown",
   "id": "cc94fc6e",
   "metadata": {},
   "source": [
    "# Results"
   ]
  },
  {
   "cell_type": "markdown",
   "id": "89a0816b",
   "metadata": {},
   "source": [
    "# Figures"
   ]
  },
  {
   "cell_type": "markdown",
   "id": "ddfea336",
   "metadata": {},
   "source": [
    "# Video Walkthrough"
   ]
  },
  {
   "cell_type": "markdown",
   "id": "0ef8dd06",
   "metadata": {},
   "source": [
    "# References"
   ]
  }
 ],
 "metadata": {
  "kernelspec": {
   "display_name": "Python 3 (ipykernel)",
   "language": "python",
   "name": "python3"
  },
  "language_info": {
   "codemirror_mode": {
    "name": "ipython",
    "version": 3
   },
   "file_extension": ".py",
   "mimetype": "text/x-python",
   "name": "python",
   "nbconvert_exporter": "python",
   "pygments_lexer": "ipython3",
   "version": "3.10.7"
  }
 },
 "nbformat": 4,
 "nbformat_minor": 5
}
